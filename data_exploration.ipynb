{
 "cells": [
  {
   "cell_type": "markdown",
   "id": "bc9f28df-60e2-4472-af9f-9b4e2248ab3d",
   "metadata": {},
   "source": [
    "## IMPORT LIBRARIES"
   ]
  },
  {
   "cell_type": "code",
   "execution_count": 11,
   "id": "60511d1f-3f2a-45bf-9c84-a83fffea4984",
   "metadata": {
    "tags": []
   },
   "outputs": [],
   "source": [
    "suppressMessages(library(magrittr))\n",
    "suppressMessages(library(ggplot2))\n",
    "suppressMessages(library(tidyr))\n",
    "suppressMessages(library(dplyr))\n",
    "suppressMessages(library(modelr))\n",
    "suppressMessages(library(broom))\n",
    "suppressMessages(library(infer))\n",
    "suppressMessages(library(tibble))\n",
    "suppressMessages(library(leaps))\n",
    "suppressMessages(library(olsrr))\n",
    "library(DBI)"
   ]
  },
  {
   "cell_type": "markdown",
   "id": "b4cab471-c53b-43c8-9cf6-81047cb8da50",
   "metadata": {
    "tags": []
   },
   "source": [
    "### Connect to Database"
   ]
  },
  {
   "cell_type": "code",
   "execution_count": 10,
   "id": "1d037dfa-deb4-4042-be39-8b73137737bf",
   "metadata": {
    "tags": []
   },
   "outputs": [
    {
     "ename": "ERROR",
     "evalue": "Error in postgresqlNewConnection(drv, ...): RPosgreSQL error: could not connect postgres@localhost:5432 on dbname \"player_stats\": SCRAM authentication requires libpq version 10 or above\n\n",
     "output_type": "error",
     "traceback": [
      "Error in postgresqlNewConnection(drv, ...): RPosgreSQL error: could not connect postgres@localhost:5432 on dbname \"player_stats\": SCRAM authentication requires libpq version 10 or above\n\nTraceback:\n",
      "1. dbConnect(PostgreSQL(), dbname = db_name, host = db_host, port = db_port, \n .     user = db_user, password = db_password)",
      "2. dbConnect(PostgreSQL(), dbname = db_name, host = db_host, port = db_port, \n .     user = db_user, password = db_password)",
      "3. postgresqlNewConnection(drv, ...)"
     ]
    }
   ],
   "source": []
  }
 ],
 "metadata": {
  "kernelspec": {
   "display_name": "R",
   "language": "R",
   "name": "ir"
  },
  "language_info": {
   "codemirror_mode": "r",
   "file_extension": ".r",
   "mimetype": "text/x-r-source",
   "name": "R",
   "pygments_lexer": "r",
   "version": "4.2.2"
  }
 },
 "nbformat": 4,
 "nbformat_minor": 5
}
